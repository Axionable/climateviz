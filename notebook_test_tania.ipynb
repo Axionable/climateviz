{
 "cells": [
  {
   "cell_type": "code",
   "execution_count": null,
   "metadata": {},
   "outputs": [],
   "source": [
    "from utils import utils_hackathon as uh\n",
    "import pandas as pd\n",
    "import plotly.graph_objects as go\n",
    "import plotly.express as px\n",
    "import importlib"
   ]
  },
  {
   "cell_type": "code",
   "execution_count": null,
   "metadata": {},
   "outputs": [],
   "source": [
    "df_drias = pd.read_csv(\"data/drias_montpellier_RCP8.5_df.csv\")\n",
    "df_drias[\"T_Q\"] = df_drias[\"T_Q\"] - 273.15\n",
    "df_mf = pd.read_csv(\"data/mf_montpellier.csv\")\n",
    "df_drias.head(5)"
   ]
  },
  {
   "cell_type": "code",
   "execution_count": null,
   "metadata": {},
   "outputs": [],
   "source": [
    "df_mf.head(5)"
   ]
  },
  {
   "cell_type": "code",
   "execution_count": null,
   "metadata": {},
   "outputs": [],
   "source": [
    "# ne pas inclure dans streamlit\n",
    "seuil = 25\n",
    "signe = \"+\"\n",
    "periode_start = \"07-01\"\n",
    "periode_end = \"10-30\"\n",
    "indicateur = \"Nb_jours_max\"\n",
    "dict_indicateurs = {\n",
    "    \"T_MAX\": \"Temperature maximale\",\n",
    "    \"nb_episodes\": \"Nombre d'épisodes\",\n",
    "    \"Nb_jours_max\": \"Nombre de jours où la température est > à 25 °C \",\n",
    "}"
   ]
  },
  {
   "cell_type": "code",
   "execution_count": null,
   "metadata": {},
   "outputs": [],
   "source": [
    "importlib.reload(uh)\n",
    "fig = uh.main_indic_nb_jour_consecutif(\n",
    "    df_mf,\n",
    "    df_drias,\n",
    "    indicateur,\n",
    "    seuil,\n",
    "    periode_start,\n",
    "    periode_end,\n",
    "    dict_indicateurs,\n",
    "    signe,\n",
    ")\n",
    "fig.show()"
   ]
  },
  {
   "cell_type": "code",
   "execution_count": null,
   "metadata": {},
   "outputs": [],
   "source": [
    "# ne pas inclure dans streamlit\n",
    "signe = \"+\"\n",
    "periode_start = \"07-01\"\n",
    "periode_end = \"10-30\"\n",
    "indicateur = \"T_MOYENNE\"\n",
    "dict_indicateurs = {\n",
    "    \"T_MAX\": \"Temperature maximale\",\n",
    "    \"T_MIN\": \"Température minimale\",\n",
    "    \"T_MOYENNE\": \"Température moyenne\",\n",
    "    \"nb_episodes\": \"Nombre d'épisodes\",\n",
    "    \"Nb_jours_max\": \"Nombre de jours où la température est > à 25 °C \",\n",
    "}"
   ]
  },
  {
   "cell_type": "code",
   "execution_count": null,
   "metadata": {},
   "outputs": [],
   "source": [
    "importlib.reload(uh)\n",
    "uh.main_indic_temperature(\n",
    "    df_mf=df_mf,\n",
    "    df_drias=df_drias,\n",
    "    indicateur=indicateur,\n",
    "    periode_start=\"07-01\",\n",
    "    periode_end=\"10-30\",\n",
    "    dict_indicateurs=dict_indicateurs,\n",
    ")"
   ]
  }
 ],
 "metadata": {
  "kernelspec": {
   "display_name": "ev_test",
   "language": "python",
   "name": "python3"
  },
  "language_info": {
   "codemirror_mode": {
    "name": "ipython",
    "version": 3
   },
   "file_extension": ".py",
   "mimetype": "text/x-python",
   "name": "python",
   "nbconvert_exporter": "python",
   "pygments_lexer": "ipython3",
   "version": "3.10.13"
  }
 },
 "nbformat": 4,
 "nbformat_minor": 2
}
